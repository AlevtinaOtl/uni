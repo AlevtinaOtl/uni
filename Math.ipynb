{
 "cells": [
  {
   "cell_type": "code",
   "execution_count": 2,
   "id": "ae2fcaa9",
   "metadata": {},
   "outputs": [
    {
     "name": "stdout",
     "output_type": "stream",
     "text": [
      "Power_divergenceResult(statistic=4.1036, pvalue=0.9044623535312082)\n"
     ]
    }
   ],
   "source": [
    "#задача 2\n",
    "\n",
    "from mpmath import mp\n",
    "import pandas as pd\n",
    "import scipy.stats as stats\n",
    "\n",
    "mp.dps = 100000\n",
    "\n",
    "pi = str(mp.pi)\n",
    "observed = pd.Series(list(pi)).value_counts()\n",
    "observed = pd.DataFrame({'number':observed.index, 'count':observed.values})\n",
    "observed = observed.drop(labels = [10],axis = 0)\n",
    "observed = observed.sort_values(by = 'number')\n",
    "print(stats.chisquare(f_obs = observed['count']))\n",
    "\n",
    "#ответ в pvalue"
   ]
  },
  {
   "cell_type": "code",
   "execution_count": 8,
   "id": "08d64242",
   "metadata": {},
   "outputs": [
    {
     "name": "stdout",
     "output_type": "stream",
     "text": [
      "[-0.157600645486007, 0.5623766459064892, 1.1210889879262553, 1.3026857613659413, 2.493243583518149, 2.399163656358999, 3.3602768404283347, 3.348056990124843, 4.291889203461581, 4.48621640046929]\n"
     ]
    },
    {
     "data": {
      "text/plain": [
       "[<matplotlib.lines.Line2D at 0x7fe5b19088e0>]"
      ]
     },
     "execution_count": 8,
     "metadata": {},
     "output_type": "execute_result"
    },
    {
     "data": {
      "image/png": "[encoded data removed]",
      "text/plain": [
       "<Figure size 432x288 with 1 Axes>"
      ]
     },
     "metadata": {
      "needs_background": "light"
     },
     "output_type": "display_data"
    }
   ],
   "source": [
    "#задача1\n",
    "\n",
    "from random import random\n",
    "import matplotlib.pyplot as plt\n",
    "from scipy import stats\n",
    "\n",
    "\n",
    "points = []\n",
    "for number in range(10): \n",
    "    point = (number + (random() * (-1 if random() > 0.5 else 1))) / 2\n",
    "    points.append(point)\n",
    "print(points)\n",
    "\n",
    "\n",
    "x = [x for x in range(10)]\n",
    "y = [y for y in points]\n",
    "\n",
    "# a - slope and b - y-intercept: match the linear formula y = ax+b\n",
    "slope, y_intercept, r_value, p_value, standard_error = stats.linregress(x, y)\n",
    "\n",
    "plt.subplots()[1].scatter(x, y)\n",
    "x_axis = [x[0], x[-1]]\n",
    "y_axis = [x[0] * slope + y_intercept, x[-1] * slope + y_intercept] \n",
    "plt.plot(x_axis, y_axis)\n",
    "plt.plot([0, 10], [0, 5])"
   ]
  },
  {
   "cell_type": "code",
   "execution_count": null,
   "id": "d5e05834",
   "metadata": {},
   "outputs": [],
   "source": []
  }
 ],
 "metadata": {
  "kernelspec": {
   "display_name": "Python 3 (ipykernel)",
   "language": "python",
   "name": "python3"
  },
  "language_info": {
   "codemirror_mode": {
    "name": "ipython",
    "version": 3
   },
   "file_extension": ".py",
   "mimetype": "text/x-python",
   "name": "python",
   "nbconvert_exporter": "python",
   "pygments_lexer": "ipython3",
   "version": "3.9.12"
  }
 },
 "nbformat": 4,
 "nbformat_minor": 5
}
